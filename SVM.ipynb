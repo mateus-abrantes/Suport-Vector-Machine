{
  "nbformat": 4,
  "nbformat_minor": 0,
  "metadata": {
    "colab": {
      "name": "SVM.ipynb",
      "provenance": [],
      "toc_visible": true,
      "include_colab_link": true
    },
    "kernelspec": {
      "name": "python3",
      "display_name": "Python 3"
    }
  },
  "cells": [
    {
      "cell_type": "markdown",
      "metadata": {
        "id": "view-in-github",
        "colab_type": "text"
      },
      "source": [
        "<a href=\"https://colab.research.google.com/github/mateus-abrantes/Suport-Vector-Machine/blob/main/SVM.ipynb\" target=\"_parent\"><img src=\"https://colab.research.google.com/assets/colab-badge.svg\" alt=\"Open In Colab\"/></a>"
      ]
    },
    {
      "cell_type": "markdown",
      "metadata": {
        "id": "6qM4Jz023JIO"
      },
      "source": [
        "# **Support Vector Machine para classificação de vozes em masculino e feminino**\n"
      ]
    },
    {
      "cell_type": "markdown",
      "metadata": {
        "id": "qNBjl8195BLa"
      },
      "source": [
        "## Carregando os Dados "
      ]
    },
    {
      "cell_type": "code",
      "metadata": {
        "colab": {
          "base_uri": "https://localhost:8080/",
          "height": 215
        },
        "id": "RBBk7nxJ3Icg",
        "outputId": "fa191853-6e5b-470d-9251-f30f46f71f2d"
      },
      "source": [
        "import pandas as pd\n",
        "\n",
        "# dataset = pd.read_csv(\"https://raw.githubusercontent.com/ect-info/ml/master/dados/Social_Network_Ads.csv\")\n",
        "dataset = pd.read_csv(\"https://raw.githubusercontent.com/mateus-abrantes/Suport-Vector-Machine/main/voice.csv\")\n",
        "\n",
        "dataset.head() "
      ],
      "execution_count": 2,
      "outputs": [
        {
          "output_type": "execute_result",
          "data": {
            "text/html": [
              "<div>\n",
              "<style scoped>\n",
              "    .dataframe tbody tr th:only-of-type {\n",
              "        vertical-align: middle;\n",
              "    }\n",
              "\n",
              "    .dataframe tbody tr th {\n",
              "        vertical-align: top;\n",
              "    }\n",
              "\n",
              "    .dataframe thead th {\n",
              "        text-align: right;\n",
              "    }\n",
              "</style>\n",
              "<table border=\"1\" class=\"dataframe\">\n",
              "  <thead>\n",
              "    <tr style=\"text-align: right;\">\n",
              "      <th></th>\n",
              "      <th>meanfreq</th>\n",
              "      <th>sd</th>\n",
              "      <th>median</th>\n",
              "      <th>Q25</th>\n",
              "      <th>Q75</th>\n",
              "      <th>IQR</th>\n",
              "      <th>skew</th>\n",
              "      <th>kurt</th>\n",
              "      <th>sp.ent</th>\n",
              "      <th>sfm</th>\n",
              "      <th>mode</th>\n",
              "      <th>centroid</th>\n",
              "      <th>meanfun</th>\n",
              "      <th>minfun</th>\n",
              "      <th>maxfun</th>\n",
              "      <th>meandom</th>\n",
              "      <th>mindom</th>\n",
              "      <th>maxdom</th>\n",
              "      <th>dfrange</th>\n",
              "      <th>modindx</th>\n",
              "      <th>label</th>\n",
              "    </tr>\n",
              "  </thead>\n",
              "  <tbody>\n",
              "    <tr>\n",
              "      <th>0</th>\n",
              "      <td>0.059781</td>\n",
              "      <td>0.064241</td>\n",
              "      <td>0.032027</td>\n",
              "      <td>0.015071</td>\n",
              "      <td>0.090193</td>\n",
              "      <td>0.075122</td>\n",
              "      <td>12.863462</td>\n",
              "      <td>274.402906</td>\n",
              "      <td>0.893369</td>\n",
              "      <td>0.491918</td>\n",
              "      <td>0.000000</td>\n",
              "      <td>0.059781</td>\n",
              "      <td>0.084279</td>\n",
              "      <td>0.015702</td>\n",
              "      <td>0.275862</td>\n",
              "      <td>0.007812</td>\n",
              "      <td>0.007812</td>\n",
              "      <td>0.007812</td>\n",
              "      <td>0.000000</td>\n",
              "      <td>0.000000</td>\n",
              "      <td>male</td>\n",
              "    </tr>\n",
              "    <tr>\n",
              "      <th>1</th>\n",
              "      <td>0.066009</td>\n",
              "      <td>0.067310</td>\n",
              "      <td>0.040229</td>\n",
              "      <td>0.019414</td>\n",
              "      <td>0.092666</td>\n",
              "      <td>0.073252</td>\n",
              "      <td>22.423285</td>\n",
              "      <td>634.613855</td>\n",
              "      <td>0.892193</td>\n",
              "      <td>0.513724</td>\n",
              "      <td>0.000000</td>\n",
              "      <td>0.066009</td>\n",
              "      <td>0.107937</td>\n",
              "      <td>0.015826</td>\n",
              "      <td>0.250000</td>\n",
              "      <td>0.009014</td>\n",
              "      <td>0.007812</td>\n",
              "      <td>0.054688</td>\n",
              "      <td>0.046875</td>\n",
              "      <td>0.052632</td>\n",
              "      <td>male</td>\n",
              "    </tr>\n",
              "    <tr>\n",
              "      <th>2</th>\n",
              "      <td>0.077316</td>\n",
              "      <td>0.083829</td>\n",
              "      <td>0.036718</td>\n",
              "      <td>0.008701</td>\n",
              "      <td>0.131908</td>\n",
              "      <td>0.123207</td>\n",
              "      <td>30.757155</td>\n",
              "      <td>1024.927705</td>\n",
              "      <td>0.846389</td>\n",
              "      <td>0.478905</td>\n",
              "      <td>0.000000</td>\n",
              "      <td>0.077316</td>\n",
              "      <td>0.098706</td>\n",
              "      <td>0.015656</td>\n",
              "      <td>0.271186</td>\n",
              "      <td>0.007990</td>\n",
              "      <td>0.007812</td>\n",
              "      <td>0.015625</td>\n",
              "      <td>0.007812</td>\n",
              "      <td>0.046512</td>\n",
              "      <td>male</td>\n",
              "    </tr>\n",
              "    <tr>\n",
              "      <th>3</th>\n",
              "      <td>0.151228</td>\n",
              "      <td>0.072111</td>\n",
              "      <td>0.158011</td>\n",
              "      <td>0.096582</td>\n",
              "      <td>0.207955</td>\n",
              "      <td>0.111374</td>\n",
              "      <td>1.232831</td>\n",
              "      <td>4.177296</td>\n",
              "      <td>0.963322</td>\n",
              "      <td>0.727232</td>\n",
              "      <td>0.083878</td>\n",
              "      <td>0.151228</td>\n",
              "      <td>0.088965</td>\n",
              "      <td>0.017798</td>\n",
              "      <td>0.250000</td>\n",
              "      <td>0.201497</td>\n",
              "      <td>0.007812</td>\n",
              "      <td>0.562500</td>\n",
              "      <td>0.554688</td>\n",
              "      <td>0.247119</td>\n",
              "      <td>male</td>\n",
              "    </tr>\n",
              "    <tr>\n",
              "      <th>4</th>\n",
              "      <td>0.135120</td>\n",
              "      <td>0.079146</td>\n",
              "      <td>0.124656</td>\n",
              "      <td>0.078720</td>\n",
              "      <td>0.206045</td>\n",
              "      <td>0.127325</td>\n",
              "      <td>1.101174</td>\n",
              "      <td>4.333713</td>\n",
              "      <td>0.971955</td>\n",
              "      <td>0.783568</td>\n",
              "      <td>0.104261</td>\n",
              "      <td>0.135120</td>\n",
              "      <td>0.106398</td>\n",
              "      <td>0.016931</td>\n",
              "      <td>0.266667</td>\n",
              "      <td>0.712812</td>\n",
              "      <td>0.007812</td>\n",
              "      <td>5.484375</td>\n",
              "      <td>5.476562</td>\n",
              "      <td>0.208274</td>\n",
              "      <td>male</td>\n",
              "    </tr>\n",
              "  </tbody>\n",
              "</table>\n",
              "</div>"
            ],
            "text/plain": [
              "   meanfreq        sd    median       Q25  ...    maxdom   dfrange   modindx  label\n",
              "0  0.059781  0.064241  0.032027  0.015071  ...  0.007812  0.000000  0.000000   male\n",
              "1  0.066009  0.067310  0.040229  0.019414  ...  0.054688  0.046875  0.052632   male\n",
              "2  0.077316  0.083829  0.036718  0.008701  ...  0.015625  0.007812  0.046512   male\n",
              "3  0.151228  0.072111  0.158011  0.096582  ...  0.562500  0.554688  0.247119   male\n",
              "4  0.135120  0.079146  0.124656  0.078720  ...  5.484375  5.476562  0.208274   male\n",
              "\n",
              "[5 rows x 21 columns]"
            ]
          },
          "metadata": {
            "tags": []
          },
          "execution_count": 2
        }
      ]
    },
    {
      "cell_type": "code",
      "metadata": {
        "colab": {
          "base_uri": "https://localhost:8080/",
          "height": 304
        },
        "id": "RNK5Hl3s5VJH",
        "outputId": "09c74749-5559-4e25-d466-f722d2fe1e63"
      },
      "source": [
        "dataset.describe() "
      ],
      "execution_count": 3,
      "outputs": [
        {
          "output_type": "execute_result",
          "data": {
            "text/html": [
              "<div>\n",
              "<style scoped>\n",
              "    .dataframe tbody tr th:only-of-type {\n",
              "        vertical-align: middle;\n",
              "    }\n",
              "\n",
              "    .dataframe tbody tr th {\n",
              "        vertical-align: top;\n",
              "    }\n",
              "\n",
              "    .dataframe thead th {\n",
              "        text-align: right;\n",
              "    }\n",
              "</style>\n",
              "<table border=\"1\" class=\"dataframe\">\n",
              "  <thead>\n",
              "    <tr style=\"text-align: right;\">\n",
              "      <th></th>\n",
              "      <th>meanfreq</th>\n",
              "      <th>sd</th>\n",
              "      <th>median</th>\n",
              "      <th>Q25</th>\n",
              "      <th>Q75</th>\n",
              "      <th>IQR</th>\n",
              "      <th>skew</th>\n",
              "      <th>kurt</th>\n",
              "      <th>sp.ent</th>\n",
              "      <th>sfm</th>\n",
              "      <th>mode</th>\n",
              "      <th>centroid</th>\n",
              "      <th>meanfun</th>\n",
              "      <th>minfun</th>\n",
              "      <th>maxfun</th>\n",
              "      <th>meandom</th>\n",
              "      <th>mindom</th>\n",
              "      <th>maxdom</th>\n",
              "      <th>dfrange</th>\n",
              "      <th>modindx</th>\n",
              "    </tr>\n",
              "  </thead>\n",
              "  <tbody>\n",
              "    <tr>\n",
              "      <th>count</th>\n",
              "      <td>3168.000000</td>\n",
              "      <td>3168.000000</td>\n",
              "      <td>3168.000000</td>\n",
              "      <td>3168.000000</td>\n",
              "      <td>3168.000000</td>\n",
              "      <td>3168.000000</td>\n",
              "      <td>3168.000000</td>\n",
              "      <td>3168.000000</td>\n",
              "      <td>3168.000000</td>\n",
              "      <td>3168.000000</td>\n",
              "      <td>3168.000000</td>\n",
              "      <td>3168.000000</td>\n",
              "      <td>3168.000000</td>\n",
              "      <td>3168.000000</td>\n",
              "      <td>3168.000000</td>\n",
              "      <td>3168.000000</td>\n",
              "      <td>3168.000000</td>\n",
              "      <td>3168.000000</td>\n",
              "      <td>3168.000000</td>\n",
              "      <td>3168.000000</td>\n",
              "    </tr>\n",
              "    <tr>\n",
              "      <th>mean</th>\n",
              "      <td>0.180907</td>\n",
              "      <td>0.057126</td>\n",
              "      <td>0.185621</td>\n",
              "      <td>0.140456</td>\n",
              "      <td>0.224765</td>\n",
              "      <td>0.084309</td>\n",
              "      <td>3.140168</td>\n",
              "      <td>36.568461</td>\n",
              "      <td>0.895127</td>\n",
              "      <td>0.408216</td>\n",
              "      <td>0.165282</td>\n",
              "      <td>0.180907</td>\n",
              "      <td>0.142807</td>\n",
              "      <td>0.036802</td>\n",
              "      <td>0.258842</td>\n",
              "      <td>0.829211</td>\n",
              "      <td>0.052647</td>\n",
              "      <td>5.047277</td>\n",
              "      <td>4.994630</td>\n",
              "      <td>0.173752</td>\n",
              "    </tr>\n",
              "    <tr>\n",
              "      <th>std</th>\n",
              "      <td>0.029918</td>\n",
              "      <td>0.016652</td>\n",
              "      <td>0.036360</td>\n",
              "      <td>0.048680</td>\n",
              "      <td>0.023639</td>\n",
              "      <td>0.042783</td>\n",
              "      <td>4.240529</td>\n",
              "      <td>134.928661</td>\n",
              "      <td>0.044980</td>\n",
              "      <td>0.177521</td>\n",
              "      <td>0.077203</td>\n",
              "      <td>0.029918</td>\n",
              "      <td>0.032304</td>\n",
              "      <td>0.019220</td>\n",
              "      <td>0.030077</td>\n",
              "      <td>0.525205</td>\n",
              "      <td>0.063299</td>\n",
              "      <td>3.521157</td>\n",
              "      <td>3.520039</td>\n",
              "      <td>0.119454</td>\n",
              "    </tr>\n",
              "    <tr>\n",
              "      <th>min</th>\n",
              "      <td>0.039363</td>\n",
              "      <td>0.018363</td>\n",
              "      <td>0.010975</td>\n",
              "      <td>0.000229</td>\n",
              "      <td>0.042946</td>\n",
              "      <td>0.014558</td>\n",
              "      <td>0.141735</td>\n",
              "      <td>2.068455</td>\n",
              "      <td>0.738651</td>\n",
              "      <td>0.036876</td>\n",
              "      <td>0.000000</td>\n",
              "      <td>0.039363</td>\n",
              "      <td>0.055565</td>\n",
              "      <td>0.009775</td>\n",
              "      <td>0.103093</td>\n",
              "      <td>0.007812</td>\n",
              "      <td>0.004883</td>\n",
              "      <td>0.007812</td>\n",
              "      <td>0.000000</td>\n",
              "      <td>0.000000</td>\n",
              "    </tr>\n",
              "    <tr>\n",
              "      <th>25%</th>\n",
              "      <td>0.163662</td>\n",
              "      <td>0.041954</td>\n",
              "      <td>0.169593</td>\n",
              "      <td>0.111087</td>\n",
              "      <td>0.208747</td>\n",
              "      <td>0.042560</td>\n",
              "      <td>1.649569</td>\n",
              "      <td>5.669547</td>\n",
              "      <td>0.861811</td>\n",
              "      <td>0.258041</td>\n",
              "      <td>0.118016</td>\n",
              "      <td>0.163662</td>\n",
              "      <td>0.116998</td>\n",
              "      <td>0.018223</td>\n",
              "      <td>0.253968</td>\n",
              "      <td>0.419828</td>\n",
              "      <td>0.007812</td>\n",
              "      <td>2.070312</td>\n",
              "      <td>2.044922</td>\n",
              "      <td>0.099766</td>\n",
              "    </tr>\n",
              "    <tr>\n",
              "      <th>50%</th>\n",
              "      <td>0.184838</td>\n",
              "      <td>0.059155</td>\n",
              "      <td>0.190032</td>\n",
              "      <td>0.140286</td>\n",
              "      <td>0.225684</td>\n",
              "      <td>0.094280</td>\n",
              "      <td>2.197101</td>\n",
              "      <td>8.318463</td>\n",
              "      <td>0.901767</td>\n",
              "      <td>0.396335</td>\n",
              "      <td>0.186599</td>\n",
              "      <td>0.184838</td>\n",
              "      <td>0.140519</td>\n",
              "      <td>0.046110</td>\n",
              "      <td>0.271186</td>\n",
              "      <td>0.765795</td>\n",
              "      <td>0.023438</td>\n",
              "      <td>4.992188</td>\n",
              "      <td>4.945312</td>\n",
              "      <td>0.139357</td>\n",
              "    </tr>\n",
              "    <tr>\n",
              "      <th>75%</th>\n",
              "      <td>0.199146</td>\n",
              "      <td>0.067020</td>\n",
              "      <td>0.210618</td>\n",
              "      <td>0.175939</td>\n",
              "      <td>0.243660</td>\n",
              "      <td>0.114175</td>\n",
              "      <td>2.931694</td>\n",
              "      <td>13.648905</td>\n",
              "      <td>0.928713</td>\n",
              "      <td>0.533676</td>\n",
              "      <td>0.221104</td>\n",
              "      <td>0.199146</td>\n",
              "      <td>0.169581</td>\n",
              "      <td>0.047904</td>\n",
              "      <td>0.277457</td>\n",
              "      <td>1.177166</td>\n",
              "      <td>0.070312</td>\n",
              "      <td>7.007812</td>\n",
              "      <td>6.992188</td>\n",
              "      <td>0.209183</td>\n",
              "    </tr>\n",
              "    <tr>\n",
              "      <th>max</th>\n",
              "      <td>0.251124</td>\n",
              "      <td>0.115273</td>\n",
              "      <td>0.261224</td>\n",
              "      <td>0.247347</td>\n",
              "      <td>0.273469</td>\n",
              "      <td>0.252225</td>\n",
              "      <td>34.725453</td>\n",
              "      <td>1309.612887</td>\n",
              "      <td>0.981997</td>\n",
              "      <td>0.842936</td>\n",
              "      <td>0.280000</td>\n",
              "      <td>0.251124</td>\n",
              "      <td>0.237636</td>\n",
              "      <td>0.204082</td>\n",
              "      <td>0.279114</td>\n",
              "      <td>2.957682</td>\n",
              "      <td>0.458984</td>\n",
              "      <td>21.867188</td>\n",
              "      <td>21.843750</td>\n",
              "      <td>0.932374</td>\n",
              "    </tr>\n",
              "  </tbody>\n",
              "</table>\n",
              "</div>"
            ],
            "text/plain": [
              "          meanfreq           sd  ...      dfrange      modindx\n",
              "count  3168.000000  3168.000000  ...  3168.000000  3168.000000\n",
              "mean      0.180907     0.057126  ...     4.994630     0.173752\n",
              "std       0.029918     0.016652  ...     3.520039     0.119454\n",
              "min       0.039363     0.018363  ...     0.000000     0.000000\n",
              "25%       0.163662     0.041954  ...     2.044922     0.099766\n",
              "50%       0.184838     0.059155  ...     4.945312     0.139357\n",
              "75%       0.199146     0.067020  ...     6.992188     0.209183\n",
              "max       0.251124     0.115273  ...    21.843750     0.932374\n",
              "\n",
              "[8 rows x 20 columns]"
            ]
          },
          "metadata": {
            "tags": []
          },
          "execution_count": 3
        }
      ]
    },
    {
      "cell_type": "code",
      "metadata": {
        "colab": {
          "base_uri": "https://localhost:8080/",
          "height": 215
        },
        "id": "rMo8GO5qdKoj",
        "outputId": "24264a62-7f3b-4185-c9e7-f97043a49e22"
      },
      "source": [
        "#Convertendo o dado para inteiro do \"label\"\n",
        "gender = {'male': 0,'female': 1}\n",
        "dataset.label = [gender[item] for item in dataset.label]\n",
        "dataset.head()"
      ],
      "execution_count": 4,
      "outputs": [
        {
          "output_type": "execute_result",
          "data": {
            "text/html": [
              "<div>\n",
              "<style scoped>\n",
              "    .dataframe tbody tr th:only-of-type {\n",
              "        vertical-align: middle;\n",
              "    }\n",
              "\n",
              "    .dataframe tbody tr th {\n",
              "        vertical-align: top;\n",
              "    }\n",
              "\n",
              "    .dataframe thead th {\n",
              "        text-align: right;\n",
              "    }\n",
              "</style>\n",
              "<table border=\"1\" class=\"dataframe\">\n",
              "  <thead>\n",
              "    <tr style=\"text-align: right;\">\n",
              "      <th></th>\n",
              "      <th>meanfreq</th>\n",
              "      <th>sd</th>\n",
              "      <th>median</th>\n",
              "      <th>Q25</th>\n",
              "      <th>Q75</th>\n",
              "      <th>IQR</th>\n",
              "      <th>skew</th>\n",
              "      <th>kurt</th>\n",
              "      <th>sp.ent</th>\n",
              "      <th>sfm</th>\n",
              "      <th>mode</th>\n",
              "      <th>centroid</th>\n",
              "      <th>meanfun</th>\n",
              "      <th>minfun</th>\n",
              "      <th>maxfun</th>\n",
              "      <th>meandom</th>\n",
              "      <th>mindom</th>\n",
              "      <th>maxdom</th>\n",
              "      <th>dfrange</th>\n",
              "      <th>modindx</th>\n",
              "      <th>label</th>\n",
              "    </tr>\n",
              "  </thead>\n",
              "  <tbody>\n",
              "    <tr>\n",
              "      <th>0</th>\n",
              "      <td>0.059781</td>\n",
              "      <td>0.064241</td>\n",
              "      <td>0.032027</td>\n",
              "      <td>0.015071</td>\n",
              "      <td>0.090193</td>\n",
              "      <td>0.075122</td>\n",
              "      <td>12.863462</td>\n",
              "      <td>274.402906</td>\n",
              "      <td>0.893369</td>\n",
              "      <td>0.491918</td>\n",
              "      <td>0.000000</td>\n",
              "      <td>0.059781</td>\n",
              "      <td>0.084279</td>\n",
              "      <td>0.015702</td>\n",
              "      <td>0.275862</td>\n",
              "      <td>0.007812</td>\n",
              "      <td>0.007812</td>\n",
              "      <td>0.007812</td>\n",
              "      <td>0.000000</td>\n",
              "      <td>0.000000</td>\n",
              "      <td>0</td>\n",
              "    </tr>\n",
              "    <tr>\n",
              "      <th>1</th>\n",
              "      <td>0.066009</td>\n",
              "      <td>0.067310</td>\n",
              "      <td>0.040229</td>\n",
              "      <td>0.019414</td>\n",
              "      <td>0.092666</td>\n",
              "      <td>0.073252</td>\n",
              "      <td>22.423285</td>\n",
              "      <td>634.613855</td>\n",
              "      <td>0.892193</td>\n",
              "      <td>0.513724</td>\n",
              "      <td>0.000000</td>\n",
              "      <td>0.066009</td>\n",
              "      <td>0.107937</td>\n",
              "      <td>0.015826</td>\n",
              "      <td>0.250000</td>\n",
              "      <td>0.009014</td>\n",
              "      <td>0.007812</td>\n",
              "      <td>0.054688</td>\n",
              "      <td>0.046875</td>\n",
              "      <td>0.052632</td>\n",
              "      <td>0</td>\n",
              "    </tr>\n",
              "    <tr>\n",
              "      <th>2</th>\n",
              "      <td>0.077316</td>\n",
              "      <td>0.083829</td>\n",
              "      <td>0.036718</td>\n",
              "      <td>0.008701</td>\n",
              "      <td>0.131908</td>\n",
              "      <td>0.123207</td>\n",
              "      <td>30.757155</td>\n",
              "      <td>1024.927705</td>\n",
              "      <td>0.846389</td>\n",
              "      <td>0.478905</td>\n",
              "      <td>0.000000</td>\n",
              "      <td>0.077316</td>\n",
              "      <td>0.098706</td>\n",
              "      <td>0.015656</td>\n",
              "      <td>0.271186</td>\n",
              "      <td>0.007990</td>\n",
              "      <td>0.007812</td>\n",
              "      <td>0.015625</td>\n",
              "      <td>0.007812</td>\n",
              "      <td>0.046512</td>\n",
              "      <td>0</td>\n",
              "    </tr>\n",
              "    <tr>\n",
              "      <th>3</th>\n",
              "      <td>0.151228</td>\n",
              "      <td>0.072111</td>\n",
              "      <td>0.158011</td>\n",
              "      <td>0.096582</td>\n",
              "      <td>0.207955</td>\n",
              "      <td>0.111374</td>\n",
              "      <td>1.232831</td>\n",
              "      <td>4.177296</td>\n",
              "      <td>0.963322</td>\n",
              "      <td>0.727232</td>\n",
              "      <td>0.083878</td>\n",
              "      <td>0.151228</td>\n",
              "      <td>0.088965</td>\n",
              "      <td>0.017798</td>\n",
              "      <td>0.250000</td>\n",
              "      <td>0.201497</td>\n",
              "      <td>0.007812</td>\n",
              "      <td>0.562500</td>\n",
              "      <td>0.554688</td>\n",
              "      <td>0.247119</td>\n",
              "      <td>0</td>\n",
              "    </tr>\n",
              "    <tr>\n",
              "      <th>4</th>\n",
              "      <td>0.135120</td>\n",
              "      <td>0.079146</td>\n",
              "      <td>0.124656</td>\n",
              "      <td>0.078720</td>\n",
              "      <td>0.206045</td>\n",
              "      <td>0.127325</td>\n",
              "      <td>1.101174</td>\n",
              "      <td>4.333713</td>\n",
              "      <td>0.971955</td>\n",
              "      <td>0.783568</td>\n",
              "      <td>0.104261</td>\n",
              "      <td>0.135120</td>\n",
              "      <td>0.106398</td>\n",
              "      <td>0.016931</td>\n",
              "      <td>0.266667</td>\n",
              "      <td>0.712812</td>\n",
              "      <td>0.007812</td>\n",
              "      <td>5.484375</td>\n",
              "      <td>5.476562</td>\n",
              "      <td>0.208274</td>\n",
              "      <td>0</td>\n",
              "    </tr>\n",
              "  </tbody>\n",
              "</table>\n",
              "</div>"
            ],
            "text/plain": [
              "   meanfreq        sd    median       Q25  ...    maxdom   dfrange   modindx  label\n",
              "0  0.059781  0.064241  0.032027  0.015071  ...  0.007812  0.000000  0.000000      0\n",
              "1  0.066009  0.067310  0.040229  0.019414  ...  0.054688  0.046875  0.052632      0\n",
              "2  0.077316  0.083829  0.036718  0.008701  ...  0.015625  0.007812  0.046512      0\n",
              "3  0.151228  0.072111  0.158011  0.096582  ...  0.562500  0.554688  0.247119      0\n",
              "4  0.135120  0.079146  0.124656  0.078720  ...  5.484375  5.476562  0.208274      0\n",
              "\n",
              "[5 rows x 21 columns]"
            ]
          },
          "metadata": {
            "tags": []
          },
          "execution_count": 4
        }
      ]
    },
    {
      "cell_type": "code",
      "metadata": {
        "colab": {
          "base_uri": "https://localhost:8080/",
          "height": 304
        },
        "id": "VVS4W87ldl3G",
        "outputId": "626ad9e1-c358-4032-ee5d-ed218d73ba2a"
      },
      "source": [
        "dataset.describe() "
      ],
      "execution_count": 5,
      "outputs": [
        {
          "output_type": "execute_result",
          "data": {
            "text/html": [
              "<div>\n",
              "<style scoped>\n",
              "    .dataframe tbody tr th:only-of-type {\n",
              "        vertical-align: middle;\n",
              "    }\n",
              "\n",
              "    .dataframe tbody tr th {\n",
              "        vertical-align: top;\n",
              "    }\n",
              "\n",
              "    .dataframe thead th {\n",
              "        text-align: right;\n",
              "    }\n",
              "</style>\n",
              "<table border=\"1\" class=\"dataframe\">\n",
              "  <thead>\n",
              "    <tr style=\"text-align: right;\">\n",
              "      <th></th>\n",
              "      <th>meanfreq</th>\n",
              "      <th>sd</th>\n",
              "      <th>median</th>\n",
              "      <th>Q25</th>\n",
              "      <th>Q75</th>\n",
              "      <th>IQR</th>\n",
              "      <th>skew</th>\n",
              "      <th>kurt</th>\n",
              "      <th>sp.ent</th>\n",
              "      <th>sfm</th>\n",
              "      <th>mode</th>\n",
              "      <th>centroid</th>\n",
              "      <th>meanfun</th>\n",
              "      <th>minfun</th>\n",
              "      <th>maxfun</th>\n",
              "      <th>meandom</th>\n",
              "      <th>mindom</th>\n",
              "      <th>maxdom</th>\n",
              "      <th>dfrange</th>\n",
              "      <th>modindx</th>\n",
              "      <th>label</th>\n",
              "    </tr>\n",
              "  </thead>\n",
              "  <tbody>\n",
              "    <tr>\n",
              "      <th>count</th>\n",
              "      <td>3168.000000</td>\n",
              "      <td>3168.000000</td>\n",
              "      <td>3168.000000</td>\n",
              "      <td>3168.000000</td>\n",
              "      <td>3168.000000</td>\n",
              "      <td>3168.000000</td>\n",
              "      <td>3168.000000</td>\n",
              "      <td>3168.000000</td>\n",
              "      <td>3168.000000</td>\n",
              "      <td>3168.000000</td>\n",
              "      <td>3168.000000</td>\n",
              "      <td>3168.000000</td>\n",
              "      <td>3168.000000</td>\n",
              "      <td>3168.000000</td>\n",
              "      <td>3168.000000</td>\n",
              "      <td>3168.000000</td>\n",
              "      <td>3168.000000</td>\n",
              "      <td>3168.000000</td>\n",
              "      <td>3168.000000</td>\n",
              "      <td>3168.000000</td>\n",
              "      <td>3168.000000</td>\n",
              "    </tr>\n",
              "    <tr>\n",
              "      <th>mean</th>\n",
              "      <td>0.180907</td>\n",
              "      <td>0.057126</td>\n",
              "      <td>0.185621</td>\n",
              "      <td>0.140456</td>\n",
              "      <td>0.224765</td>\n",
              "      <td>0.084309</td>\n",
              "      <td>3.140168</td>\n",
              "      <td>36.568461</td>\n",
              "      <td>0.895127</td>\n",
              "      <td>0.408216</td>\n",
              "      <td>0.165282</td>\n",
              "      <td>0.180907</td>\n",
              "      <td>0.142807</td>\n",
              "      <td>0.036802</td>\n",
              "      <td>0.258842</td>\n",
              "      <td>0.829211</td>\n",
              "      <td>0.052647</td>\n",
              "      <td>5.047277</td>\n",
              "      <td>4.994630</td>\n",
              "      <td>0.173752</td>\n",
              "      <td>0.500000</td>\n",
              "    </tr>\n",
              "    <tr>\n",
              "      <th>std</th>\n",
              "      <td>0.029918</td>\n",
              "      <td>0.016652</td>\n",
              "      <td>0.036360</td>\n",
              "      <td>0.048680</td>\n",
              "      <td>0.023639</td>\n",
              "      <td>0.042783</td>\n",
              "      <td>4.240529</td>\n",
              "      <td>134.928661</td>\n",
              "      <td>0.044980</td>\n",
              "      <td>0.177521</td>\n",
              "      <td>0.077203</td>\n",
              "      <td>0.029918</td>\n",
              "      <td>0.032304</td>\n",
              "      <td>0.019220</td>\n",
              "      <td>0.030077</td>\n",
              "      <td>0.525205</td>\n",
              "      <td>0.063299</td>\n",
              "      <td>3.521157</td>\n",
              "      <td>3.520039</td>\n",
              "      <td>0.119454</td>\n",
              "      <td>0.500079</td>\n",
              "    </tr>\n",
              "    <tr>\n",
              "      <th>min</th>\n",
              "      <td>0.039363</td>\n",
              "      <td>0.018363</td>\n",
              "      <td>0.010975</td>\n",
              "      <td>0.000229</td>\n",
              "      <td>0.042946</td>\n",
              "      <td>0.014558</td>\n",
              "      <td>0.141735</td>\n",
              "      <td>2.068455</td>\n",
              "      <td>0.738651</td>\n",
              "      <td>0.036876</td>\n",
              "      <td>0.000000</td>\n",
              "      <td>0.039363</td>\n",
              "      <td>0.055565</td>\n",
              "      <td>0.009775</td>\n",
              "      <td>0.103093</td>\n",
              "      <td>0.007812</td>\n",
              "      <td>0.004883</td>\n",
              "      <td>0.007812</td>\n",
              "      <td>0.000000</td>\n",
              "      <td>0.000000</td>\n",
              "      <td>0.000000</td>\n",
              "    </tr>\n",
              "    <tr>\n",
              "      <th>25%</th>\n",
              "      <td>0.163662</td>\n",
              "      <td>0.041954</td>\n",
              "      <td>0.169593</td>\n",
              "      <td>0.111087</td>\n",
              "      <td>0.208747</td>\n",
              "      <td>0.042560</td>\n",
              "      <td>1.649569</td>\n",
              "      <td>5.669547</td>\n",
              "      <td>0.861811</td>\n",
              "      <td>0.258041</td>\n",
              "      <td>0.118016</td>\n",
              "      <td>0.163662</td>\n",
              "      <td>0.116998</td>\n",
              "      <td>0.018223</td>\n",
              "      <td>0.253968</td>\n",
              "      <td>0.419828</td>\n",
              "      <td>0.007812</td>\n",
              "      <td>2.070312</td>\n",
              "      <td>2.044922</td>\n",
              "      <td>0.099766</td>\n",
              "      <td>0.000000</td>\n",
              "    </tr>\n",
              "    <tr>\n",
              "      <th>50%</th>\n",
              "      <td>0.184838</td>\n",
              "      <td>0.059155</td>\n",
              "      <td>0.190032</td>\n",
              "      <td>0.140286</td>\n",
              "      <td>0.225684</td>\n",
              "      <td>0.094280</td>\n",
              "      <td>2.197101</td>\n",
              "      <td>8.318463</td>\n",
              "      <td>0.901767</td>\n",
              "      <td>0.396335</td>\n",
              "      <td>0.186599</td>\n",
              "      <td>0.184838</td>\n",
              "      <td>0.140519</td>\n",
              "      <td>0.046110</td>\n",
              "      <td>0.271186</td>\n",
              "      <td>0.765795</td>\n",
              "      <td>0.023438</td>\n",
              "      <td>4.992188</td>\n",
              "      <td>4.945312</td>\n",
              "      <td>0.139357</td>\n",
              "      <td>0.500000</td>\n",
              "    </tr>\n",
              "    <tr>\n",
              "      <th>75%</th>\n",
              "      <td>0.199146</td>\n",
              "      <td>0.067020</td>\n",
              "      <td>0.210618</td>\n",
              "      <td>0.175939</td>\n",
              "      <td>0.243660</td>\n",
              "      <td>0.114175</td>\n",
              "      <td>2.931694</td>\n",
              "      <td>13.648905</td>\n",
              "      <td>0.928713</td>\n",
              "      <td>0.533676</td>\n",
              "      <td>0.221104</td>\n",
              "      <td>0.199146</td>\n",
              "      <td>0.169581</td>\n",
              "      <td>0.047904</td>\n",
              "      <td>0.277457</td>\n",
              "      <td>1.177166</td>\n",
              "      <td>0.070312</td>\n",
              "      <td>7.007812</td>\n",
              "      <td>6.992188</td>\n",
              "      <td>0.209183</td>\n",
              "      <td>1.000000</td>\n",
              "    </tr>\n",
              "    <tr>\n",
              "      <th>max</th>\n",
              "      <td>0.251124</td>\n",
              "      <td>0.115273</td>\n",
              "      <td>0.261224</td>\n",
              "      <td>0.247347</td>\n",
              "      <td>0.273469</td>\n",
              "      <td>0.252225</td>\n",
              "      <td>34.725453</td>\n",
              "      <td>1309.612887</td>\n",
              "      <td>0.981997</td>\n",
              "      <td>0.842936</td>\n",
              "      <td>0.280000</td>\n",
              "      <td>0.251124</td>\n",
              "      <td>0.237636</td>\n",
              "      <td>0.204082</td>\n",
              "      <td>0.279114</td>\n",
              "      <td>2.957682</td>\n",
              "      <td>0.458984</td>\n",
              "      <td>21.867188</td>\n",
              "      <td>21.843750</td>\n",
              "      <td>0.932374</td>\n",
              "      <td>1.000000</td>\n",
              "    </tr>\n",
              "  </tbody>\n",
              "</table>\n",
              "</div>"
            ],
            "text/plain": [
              "          meanfreq           sd  ...      modindx        label\n",
              "count  3168.000000  3168.000000  ...  3168.000000  3168.000000\n",
              "mean      0.180907     0.057126  ...     0.173752     0.500000\n",
              "std       0.029918     0.016652  ...     0.119454     0.500079\n",
              "min       0.039363     0.018363  ...     0.000000     0.000000\n",
              "25%       0.163662     0.041954  ...     0.099766     0.000000\n",
              "50%       0.184838     0.059155  ...     0.139357     0.500000\n",
              "75%       0.199146     0.067020  ...     0.209183     1.000000\n",
              "max       0.251124     0.115273  ...     0.932374     1.000000\n",
              "\n",
              "[8 rows x 21 columns]"
            ]
          },
          "metadata": {
            "tags": []
          },
          "execution_count": 5
        }
      ]
    },
    {
      "cell_type": "code",
      "metadata": {
        "colab": {
          "base_uri": "https://localhost:8080/",
          "height": 689
        },
        "id": "IC3LQJl_d2m-",
        "outputId": "3bd208a1-bc53-4acb-c6b7-d34d14d79c55"
      },
      "source": [
        "#Analisando a coorelacao dos dados\n",
        "dataset.corr()"
      ],
      "execution_count": 6,
      "outputs": [
        {
          "output_type": "execute_result",
          "data": {
            "text/html": [
              "<div>\n",
              "<style scoped>\n",
              "    .dataframe tbody tr th:only-of-type {\n",
              "        vertical-align: middle;\n",
              "    }\n",
              "\n",
              "    .dataframe tbody tr th {\n",
              "        vertical-align: top;\n",
              "    }\n",
              "\n",
              "    .dataframe thead th {\n",
              "        text-align: right;\n",
              "    }\n",
              "</style>\n",
              "<table border=\"1\" class=\"dataframe\">\n",
              "  <thead>\n",
              "    <tr style=\"text-align: right;\">\n",
              "      <th></th>\n",
              "      <th>meanfreq</th>\n",
              "      <th>sd</th>\n",
              "      <th>median</th>\n",
              "      <th>Q25</th>\n",
              "      <th>Q75</th>\n",
              "      <th>IQR</th>\n",
              "      <th>skew</th>\n",
              "      <th>kurt</th>\n",
              "      <th>sp.ent</th>\n",
              "      <th>sfm</th>\n",
              "      <th>mode</th>\n",
              "      <th>centroid</th>\n",
              "      <th>meanfun</th>\n",
              "      <th>minfun</th>\n",
              "      <th>maxfun</th>\n",
              "      <th>meandom</th>\n",
              "      <th>mindom</th>\n",
              "      <th>maxdom</th>\n",
              "      <th>dfrange</th>\n",
              "      <th>modindx</th>\n",
              "      <th>label</th>\n",
              "    </tr>\n",
              "  </thead>\n",
              "  <tbody>\n",
              "    <tr>\n",
              "      <th>meanfreq</th>\n",
              "      <td>1.000000</td>\n",
              "      <td>-0.739039</td>\n",
              "      <td>0.925445</td>\n",
              "      <td>0.911416</td>\n",
              "      <td>0.740997</td>\n",
              "      <td>-0.627605</td>\n",
              "      <td>-0.322327</td>\n",
              "      <td>-0.316036</td>\n",
              "      <td>-0.601203</td>\n",
              "      <td>-0.784332</td>\n",
              "      <td>0.687715</td>\n",
              "      <td>1.000000</td>\n",
              "      <td>0.460844</td>\n",
              "      <td>0.383937</td>\n",
              "      <td>0.274004</td>\n",
              "      <td>0.536666</td>\n",
              "      <td>0.229261</td>\n",
              "      <td>0.519528</td>\n",
              "      <td>0.515570</td>\n",
              "      <td>-0.216979</td>\n",
              "      <td>0.337415</td>\n",
              "    </tr>\n",
              "    <tr>\n",
              "      <th>sd</th>\n",
              "      <td>-0.739039</td>\n",
              "      <td>1.000000</td>\n",
              "      <td>-0.562603</td>\n",
              "      <td>-0.846931</td>\n",
              "      <td>-0.161076</td>\n",
              "      <td>0.874660</td>\n",
              "      <td>0.314597</td>\n",
              "      <td>0.346241</td>\n",
              "      <td>0.716620</td>\n",
              "      <td>0.838086</td>\n",
              "      <td>-0.529150</td>\n",
              "      <td>-0.739039</td>\n",
              "      <td>-0.466281</td>\n",
              "      <td>-0.345609</td>\n",
              "      <td>-0.129662</td>\n",
              "      <td>-0.482726</td>\n",
              "      <td>-0.357667</td>\n",
              "      <td>-0.482278</td>\n",
              "      <td>-0.475999</td>\n",
              "      <td>0.122660</td>\n",
              "      <td>-0.479539</td>\n",
              "    </tr>\n",
              "    <tr>\n",
              "      <th>median</th>\n",
              "      <td>0.925445</td>\n",
              "      <td>-0.562603</td>\n",
              "      <td>1.000000</td>\n",
              "      <td>0.774922</td>\n",
              "      <td>0.731849</td>\n",
              "      <td>-0.477352</td>\n",
              "      <td>-0.257407</td>\n",
              "      <td>-0.243382</td>\n",
              "      <td>-0.502005</td>\n",
              "      <td>-0.661690</td>\n",
              "      <td>0.677433</td>\n",
              "      <td>0.925445</td>\n",
              "      <td>0.414909</td>\n",
              "      <td>0.337602</td>\n",
              "      <td>0.251328</td>\n",
              "      <td>0.455943</td>\n",
              "      <td>0.191169</td>\n",
              "      <td>0.438919</td>\n",
              "      <td>0.435621</td>\n",
              "      <td>-0.213298</td>\n",
              "      <td>0.283919</td>\n",
              "    </tr>\n",
              "    <tr>\n",
              "      <th>Q25</th>\n",
              "      <td>0.911416</td>\n",
              "      <td>-0.846931</td>\n",
              "      <td>0.774922</td>\n",
              "      <td>1.000000</td>\n",
              "      <td>0.477140</td>\n",
              "      <td>-0.874189</td>\n",
              "      <td>-0.319475</td>\n",
              "      <td>-0.350182</td>\n",
              "      <td>-0.648126</td>\n",
              "      <td>-0.766875</td>\n",
              "      <td>0.591277</td>\n",
              "      <td>0.911416</td>\n",
              "      <td>0.545035</td>\n",
              "      <td>0.320994</td>\n",
              "      <td>0.199841</td>\n",
              "      <td>0.467403</td>\n",
              "      <td>0.302255</td>\n",
              "      <td>0.459683</td>\n",
              "      <td>0.454394</td>\n",
              "      <td>-0.141377</td>\n",
              "      <td>0.511455</td>\n",
              "    </tr>\n",
              "    <tr>\n",
              "      <th>Q75</th>\n",
              "      <td>0.740997</td>\n",
              "      <td>-0.161076</td>\n",
              "      <td>0.731849</td>\n",
              "      <td>0.477140</td>\n",
              "      <td>1.000000</td>\n",
              "      <td>0.009636</td>\n",
              "      <td>-0.206339</td>\n",
              "      <td>-0.148881</td>\n",
              "      <td>-0.174905</td>\n",
              "      <td>-0.378198</td>\n",
              "      <td>0.486857</td>\n",
              "      <td>0.740997</td>\n",
              "      <td>0.155091</td>\n",
              "      <td>0.258002</td>\n",
              "      <td>0.285584</td>\n",
              "      <td>0.359181</td>\n",
              "      <td>-0.023750</td>\n",
              "      <td>0.335114</td>\n",
              "      <td>0.335648</td>\n",
              "      <td>-0.216475</td>\n",
              "      <td>-0.066906</td>\n",
              "    </tr>\n",
              "    <tr>\n",
              "      <th>IQR</th>\n",
              "      <td>-0.627605</td>\n",
              "      <td>0.874660</td>\n",
              "      <td>-0.477352</td>\n",
              "      <td>-0.874189</td>\n",
              "      <td>0.009636</td>\n",
              "      <td>1.000000</td>\n",
              "      <td>0.249497</td>\n",
              "      <td>0.316185</td>\n",
              "      <td>0.640813</td>\n",
              "      <td>0.663601</td>\n",
              "      <td>-0.403764</td>\n",
              "      <td>-0.627605</td>\n",
              "      <td>-0.534462</td>\n",
              "      <td>-0.222680</td>\n",
              "      <td>-0.069588</td>\n",
              "      <td>-0.333362</td>\n",
              "      <td>-0.357037</td>\n",
              "      <td>-0.337877</td>\n",
              "      <td>-0.331563</td>\n",
              "      <td>0.041252</td>\n",
              "      <td>-0.618916</td>\n",
              "    </tr>\n",
              "    <tr>\n",
              "      <th>skew</th>\n",
              "      <td>-0.322327</td>\n",
              "      <td>0.314597</td>\n",
              "      <td>-0.257407</td>\n",
              "      <td>-0.319475</td>\n",
              "      <td>-0.206339</td>\n",
              "      <td>0.249497</td>\n",
              "      <td>1.000000</td>\n",
              "      <td>0.977020</td>\n",
              "      <td>-0.195459</td>\n",
              "      <td>0.079694</td>\n",
              "      <td>-0.434859</td>\n",
              "      <td>-0.322327</td>\n",
              "      <td>-0.167668</td>\n",
              "      <td>-0.216954</td>\n",
              "      <td>-0.080861</td>\n",
              "      <td>-0.336848</td>\n",
              "      <td>-0.061608</td>\n",
              "      <td>-0.305651</td>\n",
              "      <td>-0.304640</td>\n",
              "      <td>-0.169325</td>\n",
              "      <td>-0.036627</td>\n",
              "    </tr>\n",
              "    <tr>\n",
              "      <th>kurt</th>\n",
              "      <td>-0.316036</td>\n",
              "      <td>0.346241</td>\n",
              "      <td>-0.243382</td>\n",
              "      <td>-0.350182</td>\n",
              "      <td>-0.148881</td>\n",
              "      <td>0.316185</td>\n",
              "      <td>0.977020</td>\n",
              "      <td>1.000000</td>\n",
              "      <td>-0.127644</td>\n",
              "      <td>0.109884</td>\n",
              "      <td>-0.406722</td>\n",
              "      <td>-0.316036</td>\n",
              "      <td>-0.194560</td>\n",
              "      <td>-0.203201</td>\n",
              "      <td>-0.045667</td>\n",
              "      <td>-0.303234</td>\n",
              "      <td>-0.103313</td>\n",
              "      <td>-0.274500</td>\n",
              "      <td>-0.272729</td>\n",
              "      <td>-0.205539</td>\n",
              "      <td>-0.087195</td>\n",
              "    </tr>\n",
              "    <tr>\n",
              "      <th>sp.ent</th>\n",
              "      <td>-0.601203</td>\n",
              "      <td>0.716620</td>\n",
              "      <td>-0.502005</td>\n",
              "      <td>-0.648126</td>\n",
              "      <td>-0.174905</td>\n",
              "      <td>0.640813</td>\n",
              "      <td>-0.195459</td>\n",
              "      <td>-0.127644</td>\n",
              "      <td>1.000000</td>\n",
              "      <td>0.866411</td>\n",
              "      <td>-0.325298</td>\n",
              "      <td>-0.601203</td>\n",
              "      <td>-0.513194</td>\n",
              "      <td>-0.305826</td>\n",
              "      <td>-0.120738</td>\n",
              "      <td>-0.293562</td>\n",
              "      <td>-0.294869</td>\n",
              "      <td>-0.324253</td>\n",
              "      <td>-0.319054</td>\n",
              "      <td>0.198074</td>\n",
              "      <td>-0.490552</td>\n",
              "    </tr>\n",
              "    <tr>\n",
              "      <th>sfm</th>\n",
              "      <td>-0.784332</td>\n",
              "      <td>0.838086</td>\n",
              "      <td>-0.661690</td>\n",
              "      <td>-0.766875</td>\n",
              "      <td>-0.378198</td>\n",
              "      <td>0.663601</td>\n",
              "      <td>0.079694</td>\n",
              "      <td>0.109884</td>\n",
              "      <td>0.866411</td>\n",
              "      <td>1.000000</td>\n",
              "      <td>-0.485913</td>\n",
              "      <td>-0.784332</td>\n",
              "      <td>-0.421066</td>\n",
              "      <td>-0.362100</td>\n",
              "      <td>-0.192369</td>\n",
              "      <td>-0.428442</td>\n",
              "      <td>-0.289593</td>\n",
              "      <td>-0.436649</td>\n",
              "      <td>-0.431580</td>\n",
              "      <td>0.211477</td>\n",
              "      <td>-0.357499</td>\n",
              "    </tr>\n",
              "    <tr>\n",
              "      <th>mode</th>\n",
              "      <td>0.687715</td>\n",
              "      <td>-0.529150</td>\n",
              "      <td>0.677433</td>\n",
              "      <td>0.591277</td>\n",
              "      <td>0.486857</td>\n",
              "      <td>-0.403764</td>\n",
              "      <td>-0.434859</td>\n",
              "      <td>-0.406722</td>\n",
              "      <td>-0.325298</td>\n",
              "      <td>-0.485913</td>\n",
              "      <td>1.000000</td>\n",
              "      <td>0.687715</td>\n",
              "      <td>0.324771</td>\n",
              "      <td>0.385467</td>\n",
              "      <td>0.172329</td>\n",
              "      <td>0.491479</td>\n",
              "      <td>0.198150</td>\n",
              "      <td>0.477187</td>\n",
              "      <td>0.473775</td>\n",
              "      <td>-0.182344</td>\n",
              "      <td>0.171775</td>\n",
              "    </tr>\n",
              "    <tr>\n",
              "      <th>centroid</th>\n",
              "      <td>1.000000</td>\n",
              "      <td>-0.739039</td>\n",
              "      <td>0.925445</td>\n",
              "      <td>0.911416</td>\n",
              "      <td>0.740997</td>\n",
              "      <td>-0.627605</td>\n",
              "      <td>-0.322327</td>\n",
              "      <td>-0.316036</td>\n",
              "      <td>-0.601203</td>\n",
              "      <td>-0.784332</td>\n",
              "      <td>0.687715</td>\n",
              "      <td>1.000000</td>\n",
              "      <td>0.460844</td>\n",
              "      <td>0.383937</td>\n",
              "      <td>0.274004</td>\n",
              "      <td>0.536666</td>\n",
              "      <td>0.229261</td>\n",
              "      <td>0.519528</td>\n",
              "      <td>0.515570</td>\n",
              "      <td>-0.216979</td>\n",
              "      <td>0.337415</td>\n",
              "    </tr>\n",
              "    <tr>\n",
              "      <th>meanfun</th>\n",
              "      <td>0.460844</td>\n",
              "      <td>-0.466281</td>\n",
              "      <td>0.414909</td>\n",
              "      <td>0.545035</td>\n",
              "      <td>0.155091</td>\n",
              "      <td>-0.534462</td>\n",
              "      <td>-0.167668</td>\n",
              "      <td>-0.194560</td>\n",
              "      <td>-0.513194</td>\n",
              "      <td>-0.421066</td>\n",
              "      <td>0.324771</td>\n",
              "      <td>0.460844</td>\n",
              "      <td>1.000000</td>\n",
              "      <td>0.339387</td>\n",
              "      <td>0.311950</td>\n",
              "      <td>0.270840</td>\n",
              "      <td>0.162163</td>\n",
              "      <td>0.277982</td>\n",
              "      <td>0.275154</td>\n",
              "      <td>-0.054858</td>\n",
              "      <td>0.833921</td>\n",
              "    </tr>\n",
              "    <tr>\n",
              "      <th>minfun</th>\n",
              "      <td>0.383937</td>\n",
              "      <td>-0.345609</td>\n",
              "      <td>0.337602</td>\n",
              "      <td>0.320994</td>\n",
              "      <td>0.258002</td>\n",
              "      <td>-0.222680</td>\n",
              "      <td>-0.216954</td>\n",
              "      <td>-0.203201</td>\n",
              "      <td>-0.305826</td>\n",
              "      <td>-0.362100</td>\n",
              "      <td>0.385467</td>\n",
              "      <td>0.383937</td>\n",
              "      <td>0.339387</td>\n",
              "      <td>1.000000</td>\n",
              "      <td>0.213987</td>\n",
              "      <td>0.375979</td>\n",
              "      <td>0.082015</td>\n",
              "      <td>0.317860</td>\n",
              "      <td>0.316486</td>\n",
              "      <td>0.002042</td>\n",
              "      <td>0.136692</td>\n",
              "    </tr>\n",
              "    <tr>\n",
              "      <th>maxfun</th>\n",
              "      <td>0.274004</td>\n",
              "      <td>-0.129662</td>\n",
              "      <td>0.251328</td>\n",
              "      <td>0.199841</td>\n",
              "      <td>0.285584</td>\n",
              "      <td>-0.069588</td>\n",
              "      <td>-0.080861</td>\n",
              "      <td>-0.045667</td>\n",
              "      <td>-0.120738</td>\n",
              "      <td>-0.192369</td>\n",
              "      <td>0.172329</td>\n",
              "      <td>0.274004</td>\n",
              "      <td>0.311950</td>\n",
              "      <td>0.213987</td>\n",
              "      <td>1.000000</td>\n",
              "      <td>0.337553</td>\n",
              "      <td>-0.243426</td>\n",
              "      <td>0.355390</td>\n",
              "      <td>0.359880</td>\n",
              "      <td>-0.363029</td>\n",
              "      <td>0.166461</td>\n",
              "    </tr>\n",
              "    <tr>\n",
              "      <th>meandom</th>\n",
              "      <td>0.536666</td>\n",
              "      <td>-0.482726</td>\n",
              "      <td>0.455943</td>\n",
              "      <td>0.467403</td>\n",
              "      <td>0.359181</td>\n",
              "      <td>-0.333362</td>\n",
              "      <td>-0.336848</td>\n",
              "      <td>-0.303234</td>\n",
              "      <td>-0.293562</td>\n",
              "      <td>-0.428442</td>\n",
              "      <td>0.491479</td>\n",
              "      <td>0.536666</td>\n",
              "      <td>0.270840</td>\n",
              "      <td>0.375979</td>\n",
              "      <td>0.337553</td>\n",
              "      <td>1.000000</td>\n",
              "      <td>0.099656</td>\n",
              "      <td>0.812838</td>\n",
              "      <td>0.811304</td>\n",
              "      <td>-0.180954</td>\n",
              "      <td>0.191067</td>\n",
              "    </tr>\n",
              "    <tr>\n",
              "      <th>mindom</th>\n",
              "      <td>0.229261</td>\n",
              "      <td>-0.357667</td>\n",
              "      <td>0.191169</td>\n",
              "      <td>0.302255</td>\n",
              "      <td>-0.023750</td>\n",
              "      <td>-0.357037</td>\n",
              "      <td>-0.061608</td>\n",
              "      <td>-0.103313</td>\n",
              "      <td>-0.294869</td>\n",
              "      <td>-0.289593</td>\n",
              "      <td>0.198150</td>\n",
              "      <td>0.229261</td>\n",
              "      <td>0.162163</td>\n",
              "      <td>0.082015</td>\n",
              "      <td>-0.243426</td>\n",
              "      <td>0.099656</td>\n",
              "      <td>1.000000</td>\n",
              "      <td>0.026640</td>\n",
              "      <td>0.008666</td>\n",
              "      <td>0.200212</td>\n",
              "      <td>0.194974</td>\n",
              "    </tr>\n",
              "    <tr>\n",
              "      <th>maxdom</th>\n",
              "      <td>0.519528</td>\n",
              "      <td>-0.482278</td>\n",
              "      <td>0.438919</td>\n",
              "      <td>0.459683</td>\n",
              "      <td>0.335114</td>\n",
              "      <td>-0.337877</td>\n",
              "      <td>-0.305651</td>\n",
              "      <td>-0.274500</td>\n",
              "      <td>-0.324253</td>\n",
              "      <td>-0.436649</td>\n",
              "      <td>0.477187</td>\n",
              "      <td>0.519528</td>\n",
              "      <td>0.277982</td>\n",
              "      <td>0.317860</td>\n",
              "      <td>0.355390</td>\n",
              "      <td>0.812838</td>\n",
              "      <td>0.026640</td>\n",
              "      <td>1.000000</td>\n",
              "      <td>0.999838</td>\n",
              "      <td>-0.425531</td>\n",
              "      <td>0.195657</td>\n",
              "    </tr>\n",
              "    <tr>\n",
              "      <th>dfrange</th>\n",
              "      <td>0.515570</td>\n",
              "      <td>-0.475999</td>\n",
              "      <td>0.435621</td>\n",
              "      <td>0.454394</td>\n",
              "      <td>0.335648</td>\n",
              "      <td>-0.331563</td>\n",
              "      <td>-0.304640</td>\n",
              "      <td>-0.272729</td>\n",
              "      <td>-0.319054</td>\n",
              "      <td>-0.431580</td>\n",
              "      <td>0.473775</td>\n",
              "      <td>0.515570</td>\n",
              "      <td>0.275154</td>\n",
              "      <td>0.316486</td>\n",
              "      <td>0.359880</td>\n",
              "      <td>0.811304</td>\n",
              "      <td>0.008666</td>\n",
              "      <td>0.999838</td>\n",
              "      <td>1.000000</td>\n",
              "      <td>-0.429266</td>\n",
              "      <td>0.192213</td>\n",
              "    </tr>\n",
              "    <tr>\n",
              "      <th>modindx</th>\n",
              "      <td>-0.216979</td>\n",
              "      <td>0.122660</td>\n",
              "      <td>-0.213298</td>\n",
              "      <td>-0.141377</td>\n",
              "      <td>-0.216475</td>\n",
              "      <td>0.041252</td>\n",
              "      <td>-0.169325</td>\n",
              "      <td>-0.205539</td>\n",
              "      <td>0.198074</td>\n",
              "      <td>0.211477</td>\n",
              "      <td>-0.182344</td>\n",
              "      <td>-0.216979</td>\n",
              "      <td>-0.054858</td>\n",
              "      <td>0.002042</td>\n",
              "      <td>-0.363029</td>\n",
              "      <td>-0.180954</td>\n",
              "      <td>0.200212</td>\n",
              "      <td>-0.425531</td>\n",
              "      <td>-0.429266</td>\n",
              "      <td>1.000000</td>\n",
              "      <td>-0.030801</td>\n",
              "    </tr>\n",
              "    <tr>\n",
              "      <th>label</th>\n",
              "      <td>0.337415</td>\n",
              "      <td>-0.479539</td>\n",
              "      <td>0.283919</td>\n",
              "      <td>0.511455</td>\n",
              "      <td>-0.066906</td>\n",
              "      <td>-0.618916</td>\n",
              "      <td>-0.036627</td>\n",
              "      <td>-0.087195</td>\n",
              "      <td>-0.490552</td>\n",
              "      <td>-0.357499</td>\n",
              "      <td>0.171775</td>\n",
              "      <td>0.337415</td>\n",
              "      <td>0.833921</td>\n",
              "      <td>0.136692</td>\n",
              "      <td>0.166461</td>\n",
              "      <td>0.191067</td>\n",
              "      <td>0.194974</td>\n",
              "      <td>0.195657</td>\n",
              "      <td>0.192213</td>\n",
              "      <td>-0.030801</td>\n",
              "      <td>1.000000</td>\n",
              "    </tr>\n",
              "  </tbody>\n",
              "</table>\n",
              "</div>"
            ],
            "text/plain": [
              "          meanfreq        sd    median  ...   dfrange   modindx     label\n",
              "meanfreq  1.000000 -0.739039  0.925445  ...  0.515570 -0.216979  0.337415\n",
              "sd       -0.739039  1.000000 -0.562603  ... -0.475999  0.122660 -0.479539\n",
              "median    0.925445 -0.562603  1.000000  ...  0.435621 -0.213298  0.283919\n",
              "Q25       0.911416 -0.846931  0.774922  ...  0.454394 -0.141377  0.511455\n",
              "Q75       0.740997 -0.161076  0.731849  ...  0.335648 -0.216475 -0.066906\n",
              "IQR      -0.627605  0.874660 -0.477352  ... -0.331563  0.041252 -0.618916\n",
              "skew     -0.322327  0.314597 -0.257407  ... -0.304640 -0.169325 -0.036627\n",
              "kurt     -0.316036  0.346241 -0.243382  ... -0.272729 -0.205539 -0.087195\n",
              "sp.ent   -0.601203  0.716620 -0.502005  ... -0.319054  0.198074 -0.490552\n",
              "sfm      -0.784332  0.838086 -0.661690  ... -0.431580  0.211477 -0.357499\n",
              "mode      0.687715 -0.529150  0.677433  ...  0.473775 -0.182344  0.171775\n",
              "centroid  1.000000 -0.739039  0.925445  ...  0.515570 -0.216979  0.337415\n",
              "meanfun   0.460844 -0.466281  0.414909  ...  0.275154 -0.054858  0.833921\n",
              "minfun    0.383937 -0.345609  0.337602  ...  0.316486  0.002042  0.136692\n",
              "maxfun    0.274004 -0.129662  0.251328  ...  0.359880 -0.363029  0.166461\n",
              "meandom   0.536666 -0.482726  0.455943  ...  0.811304 -0.180954  0.191067\n",
              "mindom    0.229261 -0.357667  0.191169  ...  0.008666  0.200212  0.194974\n",
              "maxdom    0.519528 -0.482278  0.438919  ...  0.999838 -0.425531  0.195657\n",
              "dfrange   0.515570 -0.475999  0.435621  ...  1.000000 -0.429266  0.192213\n",
              "modindx  -0.216979  0.122660 -0.213298  ... -0.429266  1.000000 -0.030801\n",
              "label     0.337415 -0.479539  0.283919  ...  0.192213 -0.030801  1.000000\n",
              "\n",
              "[21 rows x 21 columns]"
            ]
          },
          "metadata": {
            "tags": []
          },
          "execution_count": 6
        }
      ]
    },
    {
      "cell_type": "code",
      "metadata": {
        "colab": {
          "base_uri": "https://localhost:8080/",
          "height": 327
        },
        "id": "o7aMzT3RefpT",
        "outputId": "a5d635ea-5995-400c-c151-8f012cbd233e"
      },
      "source": [
        "#Mapa de calor da correlacao dos dados\n",
        "import seaborn as sns \n",
        "sns.heatmap(dataset.corr())"
      ],
      "execution_count": 7,
      "outputs": [
        {
          "output_type": "execute_result",
          "data": {
            "text/plain": [
              "<matplotlib.axes._subplots.AxesSubplot at 0x7f2bfd099d50>"
            ]
          },
          "metadata": {
            "tags": []
          },
          "execution_count": 7
        },
        {
          "output_type": "display_data",
          "data": {
            "image/png": "[encoded data removed]",
            "text/plain": [
              "<Figure size 432x288 with 2 Axes>"
            ]
          },
          "metadata": {
            "tags": [],
            "needs_background": "light"
          }
        }
      ]
    },
    {
      "cell_type": "code",
      "metadata": {
        "id": "N2izlQnjfLkZ"
      },
      "source": [
        ""
      ],
      "execution_count": 7,
      "outputs": []
    },
    {
      "cell_type": "markdown",
      "metadata": {
        "id": "hbFdoOEK5kK5"
      },
      "source": [
        "## Atributos escolhidos\n",
        "* Colunas 'Q25' e 'meanfun'  "
      ]
    },
    {
      "cell_type": "code",
      "metadata": {
        "colab": {
          "base_uri": "https://localhost:8080/"
        },
        "id": "gqQaspNx5eFx",
        "outputId": "4ab8a060-fb35-4eda-9f96-d9e2f9d99443"
      },
      "source": [
        "X = dataset.loc[:,['Q25','meanfun']].values\n",
        "\n",
        "y = dataset['label'].values\n",
        "\n",
        "print(X[0:6,:])\n",
        "print(y[:6])"
      ],
      "execution_count": 8,
      "outputs": [
        {
          "output_type": "stream",
          "text": [
            "[[0.01507149 0.08427911]\n",
            " [0.01941387 0.10793655]\n",
            " [0.00870106 0.09870626]\n",
            " [0.09658173 0.08896485]\n",
            " [0.07872022 0.10639784]\n",
            " [0.06795799 0.11013192]]\n",
            "[0 0 0 0 0 0]\n"
          ],
          "name": "stdout"
        }
      ]
    },
    {
      "cell_type": "markdown",
      "metadata": {
        "id": "eLglBZBI7K_P"
      },
      "source": [
        "## Divisão dos conjuntos de dados\n",
        "* Em dois conjuntos: treinamento e teste"
      ]
    },
    {
      "cell_type": "code",
      "metadata": {
        "id": "HwLn4IL96FuQ"
      },
      "source": [
        "from sklearn.model_selection import train_test_split\n",
        "X_train, X_test, y_train, y_test = train_test_split(X, y, test_size = 0.25, random_state = 1)"
      ],
      "execution_count": 9,
      "outputs": []
    },
    {
      "cell_type": "markdown",
      "metadata": {
        "id": "ngLGlX2s7hGz"
      },
      "source": [
        "## Normalização \n",
        "* A amplitude de variação dos dados nos atributos idade e salário são bem diferentes\n",
        "* Permite que a faixa de variação seja equilibrada entre os diferentes atributos \n",
        "* Muitos algoritmos de aprendizado de máquinas são sensíveis a atribuitos com aplitude de valores muito distintos \n",
        "* Vídeo com explicações: https://youtu.be/kIeXOC-Rnb4 \n"
      ]
    },
    {
      "cell_type": "code",
      "metadata": {
        "id": "B8ITWR_o7_UG"
      },
      "source": [
        "# Fonte: https://scikit-learn.org/stable/modules/generated/sklearn.preprocessing.MinMaxScaler.html \n",
        "from sklearn.preprocessing import MinMaxScaler\n",
        "sc = MinMaxScaler()\n",
        "X_train = sc.fit_transform(X_train)\n",
        "\n",
        "X_test = sc.transform(X_test)"
      ],
      "execution_count": 10,
      "outputs": []
    },
    {
      "cell_type": "markdown",
      "metadata": {
        "id": "mPrVQ2kB8O2d"
      },
      "source": [
        "## Treinamento \n",
        "* Com a SVM com kernel linear"
      ]
    },
    {
      "cell_type": "code",
      "metadata": {
        "colab": {
          "base_uri": "https://localhost:8080/"
        },
        "id": "jQ1oLW_28Zzx",
        "outputId": "bdc3540d-de51-44b6-dc17-fe3148aba628"
      },
      "source": [
        "from sklearn.svm import SVC\n",
        "classifier = SVC(kernel = 'linear')\n",
        "classifier.fit(X_train, y_train)"
      ],
      "execution_count": 11,
      "outputs": [
        {
          "output_type": "execute_result",
          "data": {
            "text/plain": [
              "SVC(C=1.0, break_ties=False, cache_size=200, class_weight=None, coef0=0.0,\n",
              "    decision_function_shape='ovr', degree=3, gamma='scale', kernel='linear',\n",
              "    max_iter=-1, probability=False, random_state=None, shrinking=True,\n",
              "    tol=0.001, verbose=False)"
            ]
          },
          "metadata": {
            "tags": []
          },
          "execution_count": 11
        }
      ]
    },
    {
      "cell_type": "markdown",
      "metadata": {
        "id": "7il3opXH81w2"
      },
      "source": [
        "## Avaliação do Modelo \n",
        "* Uso da métrica de acurácia \n",
        "* Matriz de Confusão \n",
        "\n",
        "Sugestão de leitura:\n",
        "* [Métricas de Avaliação: acurácia, precisão, recall… quais as diferenças?](https://medium.com/@vitorborbarodrigues/m%C3%A9tricas-de-avalia%C3%A7%C3%A3o-acur%C3%A1cia-precis%C3%A3o-recall-quais-as-diferen%C3%A7as-c8f05e0a513c) "
      ]
    },
    {
      "cell_type": "code",
      "metadata": {
        "colab": {
          "base_uri": "https://localhost:8080/"
        },
        "id": "X5Qgnmu48g6W",
        "outputId": "ec6164fc-74ae-4615-dc51-49a61d662c57"
      },
      "source": [
        "y_pred = classifier.predict(X_test)\n",
        "\n",
        "print(y_test[0:35])\n",
        "print(y_pred[0:35])"
      ],
      "execution_count": 12,
      "outputs": [
        {
          "output_type": "stream",
          "text": [
            "[1 1 1 1 1 1 1 1 0 0 0 0 0 1 1 0 0 1 0 1 1 0 1 0 0 0 0 0 0 0 1 1 0 1 1]\n",
            "[1 1 1 1 1 1 1 1 0 0 0 0 0 1 1 0 0 1 0 1 1 0 1 0 0 0 1 0 0 0 1 1 0 1 1]\n"
          ],
          "name": "stdout"
        }
      ]
    },
    {
      "cell_type": "code",
      "metadata": {
        "colab": {
          "base_uri": "https://localhost:8080/"
        },
        "id": "COuRjfUR-txe",
        "outputId": "ee3cafa9-3fa5-4351-ddd8-99862c98f15f"
      },
      "source": [
        "from sklearn.metrics import accuracy_score\n",
        "\n",
        "print(\"Acurácia: \", accuracy_score(y_test,y_pred)*100, \"%\"  )\n"
      ],
      "execution_count": 13,
      "outputs": [
        {
          "output_type": "stream",
          "text": [
            "Acurácia:  95.70707070707071 %\n"
          ],
          "name": "stdout"
        }
      ]
    },
    {
      "cell_type": "code",
      "metadata": {
        "colab": {
          "base_uri": "https://localhost:8080/"
        },
        "id": "cn715owl-wmV",
        "outputId": "74d961cf-d85e-44d1-9e60-153ca1d18ef8"
      },
      "source": [
        "from sklearn.metrics import confusion_matrix\n",
        "cm = confusion_matrix(y_test, y_pred)\n",
        "print(\"Matrix de confusão: \")\n",
        "print(cm)\n"
      ],
      "execution_count": 14,
      "outputs": [
        {
          "output_type": "stream",
          "text": [
            "Matrix de confusão: \n",
            "[[385  15]\n",
            " [ 19 373]]\n"
          ],
          "name": "stdout"
        }
      ]
    },
    {
      "cell_type": "markdown",
      "metadata": {
        "id": "tV6lgBL1HQjw"
      },
      "source": [
        "## Visualização dos resultados"
      ]
    },
    {
      "cell_type": "code",
      "metadata": {
        "colab": {
          "base_uri": "https://localhost:8080/",
          "height": 282
        },
        "id": "HXxwu9jL-zut",
        "outputId": "bba24be3-33d6-4350-9373-9de6584f7b89"
      },
      "source": [
        "import matplotlib.pyplot as plt\n",
        "\n",
        "# Seleção dos elementos classificados como female\n",
        "Q25_female = X_train[y_train == 1, 0]\n",
        "meanfun_female = X_train[y_train == 1, 1]\n",
        "\n",
        "plt.scatter(Q25_female,meanfun_female)"
      ],
      "execution_count": 15,
      "outputs": [
        {
          "output_type": "execute_result",
          "data": {
            "text/plain": [
              "<matplotlib.collections.PathCollection at 0x7f2bf194de50>"
            ]
          },
          "metadata": {
            "tags": []
          },
          "execution_count": 15
        },
        {
          "output_type": "display_data",
          "data": {
            "image/png": "[encoded data removed]",
            "text/plain": [
              "<Figure size 432x288 with 1 Axes>"
            ]
          },
          "metadata": {
            "tags": [],
            "needs_background": "light"
          }
        }
      ]
    },
    {
      "cell_type": "code",
      "metadata": {
        "colab": {
          "base_uri": "https://localhost:8080/",
          "height": 282
        },
        "id": "PjdZHxNgItTL",
        "outputId": "b996f8ea-70dd-4423-d29d-bd8e0929ed3b"
      },
      "source": [
        "# Seleção dos elementos classificados como male\n",
        "Q25_male = X_train[y_train == 0, 0]\n",
        "meanfun_male = X_train[y_train == 0, 1]\n",
        "plt.scatter(Q25_male,meanfun_male)\n"
      ],
      "execution_count": 16,
      "outputs": [
        {
          "output_type": "execute_result",
          "data": {
            "text/plain": [
              "<matplotlib.collections.PathCollection at 0x7f2bf1917990>"
            ]
          },
          "metadata": {
            "tags": []
          },
          "execution_count": 16
        },
        {
          "output_type": "display_data",
          "data": {
            "image/png": "[encoded data removed]",
            "text/plain": [
              "<Figure size 432x288 with 1 Axes>"
            ]
          },
          "metadata": {
            "tags": [],
            "needs_background": "light"
          }
        }
      ]
    },
    {
      "cell_type": "code",
      "metadata": {
        "colab": {
          "base_uri": "https://localhost:8080/",
          "height": 295
        },
        "id": "ofY0V5ZehEcX",
        "outputId": "edfa2fd9-da1f-4abb-c1c4-30abc9240294"
      },
      "source": [
        "plt.scatter(Q25_female,meanfun_female, color='pink', label = 'Female')\n",
        "plt.scatter(Q25_male,meanfun_male, color='blue', label = 'Male')\n",
        "\n",
        "plt.title('SVM - Conjunto de Treinamento')\n",
        "plt.xlabel('Q25')\n",
        "plt.ylabel('meanfun')\n",
        "plt.legend()\n",
        "plt.show()"
      ],
      "execution_count": 17,
      "outputs": [
        {
          "output_type": "display_data",
          "data": {
            "image/png": "[encoded data removed]",
            "text/plain": [
              "<Figure size 432x288 with 1 Axes>"
            ]
          },
          "metadata": {
            "tags": [],
            "needs_background": "light"
          }
        }
      ]
    },
    {
      "cell_type": "code",
      "metadata": {
        "id": "PcjiXhkfL-Ed"
      },
      "source": [
        "import numpy as np\n",
        "\n",
        "# variação no eixo x para o plot \n",
        "vx = np.arange(start = -0.1, stop = 1.1, step = 0.1) \n",
        "vy = np.arange(start = -0.1, stop = 1.1, step = 0.1)\n",
        "\n",
        "X1, X2 = np.meshgrid(vx,vy) "
      ],
      "execution_count": 18,
      "outputs": []
    },
    {
      "cell_type": "code",
      "metadata": {
        "colab": {
          "base_uri": "https://localhost:8080/",
          "height": 282
        },
        "id": "Cpwxl1ZgM1nW",
        "outputId": "950f0fb1-662c-4106-94e3-918b0c1eb415"
      },
      "source": [
        "plt.scatter(X1.ravel(), X2.ravel()) "
      ],
      "execution_count": 19,
      "outputs": [
        {
          "output_type": "execute_result",
          "data": {
            "text/plain": [
              "<matplotlib.collections.PathCollection at 0x7f2bf18d27d0>"
            ]
          },
          "metadata": {
            "tags": []
          },
          "execution_count": 19
        },
        {
          "output_type": "display_data",
          "data": {
            "image/png": "[encoded data removed]",
            "text/plain": [
              "<Figure size 432x288 with 1 Axes>"
            ]
          },
          "metadata": {
            "tags": [],
            "needs_background": "light"
          }
        }
      ]
    },
    {
      "cell_type": "code",
      "metadata": {
        "id": "55cxyimzNVjf"
      },
      "source": [
        "vx = np.arange(-0.1, 1.1, 0.025) \n",
        "vy = np.arange(-0.1, 1.1, 0.025)\n",
        "X1, X2 = np.meshgrid(vx,vy) "
      ],
      "execution_count": 20,
      "outputs": []
    },
    {
      "cell_type": "code",
      "metadata": {
        "colab": {
          "base_uri": "https://localhost:8080/"
        },
        "id": "kecv_AzxRLJN",
        "outputId": "ad2bbd23-5c3a-4e23-e637-8efa32312087"
      },
      "source": [
        "X1.shape"
      ],
      "execution_count": 21,
      "outputs": [
        {
          "output_type": "execute_result",
          "data": {
            "text/plain": [
              "(49, 49)"
            ]
          },
          "metadata": {
            "tags": []
          },
          "execution_count": 21
        }
      ]
    },
    {
      "cell_type": "code",
      "metadata": {
        "id": "EU8HW5LINq5N"
      },
      "source": [
        "y_pred_mesh =  classifier.predict(np.array([X1.ravel(),X2.ravel()]).T ).reshape(X1.shape)"
      ],
      "execution_count": 22,
      "outputs": []
    },
    {
      "cell_type": "code",
      "metadata": {
        "colab": {
          "base_uri": "https://localhost:8080/",
          "height": 282
        },
        "id": "e28Rw2SARV1u",
        "outputId": "9bc3da0e-f863-45ac-f384-01dc87723b1b"
      },
      "source": [
        "from matplotlib.colors import ListedColormap\n",
        "plt.contourf(X1,X2, y_pred_mesh, alpha  = 0.5, cmap = ListedColormap(('blue','pink')))\n",
        "\n"
      ],
      "execution_count": 23,
      "outputs": [
        {
          "output_type": "execute_result",
          "data": {
            "text/plain": [
              "<matplotlib.contour.QuadContourSet at 0x7f2bf1728110>"
            ]
          },
          "metadata": {
            "tags": []
          },
          "execution_count": 23
        },
        {
          "output_type": "display_data",
          "data": {
            "image/png": "[encoded data removed]",
            "text/plain": [
              "<Figure size 432x288 with 1 Axes>"
            ]
          },
          "metadata": {
            "tags": [],
            "needs_background": "light"
          }
        }
      ]
    },
    {
      "cell_type": "code",
      "metadata": {
        "colab": {
          "base_uri": "https://localhost:8080/",
          "height": 295
        },
        "id": "mOmT6H-ESMIZ",
        "outputId": "ebb25e05-cda8-4b7c-f1b2-cd0ff1fc3df3"
      },
      "source": [
        "plt.contourf(X1,X2, y_pred_mesh, alpha  = 0.5, cmap = ListedColormap(('blue','pink')))\n",
        "\n",
        "plt.scatter(Q25_female,meanfun_female, color='pink', label = 'Female')\n",
        "plt.scatter(Q25_male,meanfun_male, color='blue', label = 'Male')\n",
        "\n",
        "plt.title('SVM - Conjunto de Treinamento')\n",
        "plt.xlabel('Q25')\n",
        "plt.ylabel('meanfun')\n",
        "plt.legend()\n",
        "plt.show()"
      ],
      "execution_count": 24,
      "outputs": [
        {
          "output_type": "display_data",
          "data": {
            "image/png": "[encoded data removed]",
            "text/plain": [
              "<Figure size 432x288 with 1 Axes>"
            ]
          },
          "metadata": {
            "tags": [],
            "needs_background": "light"
          }
        }
      ]
    },
    {
      "cell_type": "markdown",
      "metadata": {
        "id": "_BhgqdmaUU5d"
      },
      "source": [
        "## SVM Não Linear \n",
        "* Treinamento com a SVM com Kernel RBF "
      ]
    },
    {
      "cell_type": "code",
      "metadata": {
        "colab": {
          "base_uri": "https://localhost:8080/"
        },
        "id": "oKAKqDVxUkGX",
        "outputId": "baccbdf5-c1e7-4550-afb5-8ad7ab325ada"
      },
      "source": [
        "classifierRBF = SVC(kernel=\"rbf\",C=700) \n",
        "\n",
        "classifierRBF.fit(X_train, y_train) "
      ],
      "execution_count": 85,
      "outputs": [
        {
          "output_type": "execute_result",
          "data": {
            "text/plain": [
              "SVC(C=700, break_ties=False, cache_size=200, class_weight=None, coef0=0.0,\n",
              "    decision_function_shape='ovr', degree=3, gamma='scale', kernel='rbf',\n",
              "    max_iter=-1, probability=False, random_state=None, shrinking=True,\n",
              "    tol=0.001, verbose=False)"
            ]
          },
          "metadata": {
            "tags": []
          },
          "execution_count": 85
        }
      ]
    },
    {
      "cell_type": "code",
      "metadata": {
        "id": "cSqxK5weVNZZ"
      },
      "source": [
        "# predição \n",
        "y_pred = classifierRBF.predict(X_test)"
      ],
      "execution_count": 86,
      "outputs": []
    },
    {
      "cell_type": "code",
      "metadata": {
        "colab": {
          "base_uri": "https://localhost:8080/"
        },
        "id": "5Y3WaQKGVXL5",
        "outputId": "7b68000e-81e0-4ca4-883d-edc7acceb954"
      },
      "source": [
        "print(\"Acurácia: \", accuracy_score(y_test,y_pred)*100, \"%\"  )"
      ],
      "execution_count": 87,
      "outputs": [
        {
          "output_type": "stream",
          "text": [
            "Acurácia:  97.72727272727273 %\n"
          ],
          "name": "stdout"
        }
      ]
    },
    {
      "cell_type": "code",
      "metadata": {
        "colab": {
          "base_uri": "https://localhost:8080/"
        },
        "id": "BEDN33wfVtOh",
        "outputId": "36bc28f1-5cef-4323-e5df-abb5386e7dab"
      },
      "source": [
        "# matrix de confusão \n",
        "cm = confusion_matrix(y_test, y_pred)\n",
        "\n",
        "print(cm)"
      ],
      "execution_count": 88,
      "outputs": [
        {
          "output_type": "stream",
          "text": [
            "[[389  11]\n",
            " [  7 385]]\n"
          ],
          "name": "stdout"
        }
      ]
    },
    {
      "cell_type": "code",
      "metadata": {
        "colab": {
          "base_uri": "https://localhost:8080/",
          "height": 295
        },
        "id": "ZyxGoycrWAlh",
        "outputId": "5dc4de39-7838-456a-8c7f-9e5e0caa45ab"
      },
      "source": [
        "# Nova \"superfície de previsão\"\n",
        "\n",
        "y_pred_mesh =  classifierRBF.predict(np.array([X1.ravel(),X2.ravel()]).T ).reshape(X1.shape)\n",
        "\n",
        "plt.contourf(X1,X2, y_pred_mesh, alpha  = 0.5, cmap = ListedColormap(('blue','pink')))\n",
        "\n",
        "plt.scatter(Q25_female,meanfun_female, color='pink', label = 'Female')\n",
        "plt.scatter(Q25_male,meanfun_male, color='blue', label = 'Male')\n",
        "\n",
        "plt.title('SVM - Conjunto de Treinamento')\n",
        "plt.xlabel('Q25')\n",
        "plt.ylabel('meanfun')\n",
        "plt.legend()\n",
        "plt.show()"
      ],
      "execution_count": 89,
      "outputs": [
        {
          "output_type": "display_data",
          "data": {
            "image/png": "[encoded data removed]",
            "text/plain": [
              "<Figure size 432x288 with 1 Axes>"
            ]
          },
          "metadata": {
            "tags": [],
            "needs_background": "light"
          }
        }
      ]
    },
    {
      "cell_type": "markdown",
      "metadata": {
        "id": "8Gx6-V-wlVuK"
      },
      "source": [
        "## **Análise**\n",
        "Usando um SVM linear obtemos uma precisão de aproximadamente 95,7%, enquanto com o SVM não linear obtemos uma precisão de 97,7%. Com isso podemos ver que o SVM não linear teve uma melhor eficiência já que se observarmos a distribuição dos dados podemos ver que a aproximação por uma linha reta dada pela versão linear não separou os dados de forma mais eficiente, com isso vemos que o ajuste por uma curva satisfaz mais o problema em questão e com isso obteve um melhor resultado."
      ]
    }
  ]
}